{
 "cells": [
  {
   "cell_type": "code",
   "execution_count": 1,
   "metadata": {},
   "outputs": [],
   "source": [
    "import matplotlib.pyplot as plt\n",
    "import numpy as np\n",
    "import random\n",
    "import os"
   ]
  },
  {
   "cell_type": "code",
   "execution_count": 2,
   "metadata": {},
   "outputs": [],
   "source": [
    "def plot_imagens(imagens, altura, largura, n_linhas, n_cols, amostra):\n",
    "    '''Para a visualização das imagens'''\n",
    "    plt.figure(figsize = (2.5 * n_cols, 2.5 * n_linhas))\n",
    "    plt.subplots_adjust(bottom=0, left=.01, right=.99, top=.90, hspace=.20)\n",
    "    for i in range(n_linhas * n_cols):\n",
    "        plt.subplot(n_linhas, n_cols, i + 1)\n",
    "        plt.imshow(imagens[amostra[i]].reshape((altura, largura)), cmap=plt.cm.gray)\n",
    "        plt.xticks(())\n",
    "        plt.yticks(())"
   ]
  },
  {
   "cell_type": "code",
   "execution_count": 3,
   "metadata": {},
   "outputs": [],
   "source": [
    "def preto_e_branco(rgb):\n",
    "    '''Converte a imagem colorida para uma imagem em preto e branco'''\n",
    "    r, g, b = rgb[:,:,0], rgb[:,:,1], rgb[:,:,2]\n",
    "    gray = 0.2989 * r + 0.5870 * g + 0.1140 * b\n",
    "    return gray"
   ]
  },
  {
   "cell_type": "code",
   "execution_count": 4,
   "metadata": {},
   "outputs": [
    {
     "ename": "SyntaxError",
     "evalue": "invalid syntax (<ipython-input-4-1081dd54e828>, line 31)",
     "output_type": "error",
     "traceback": [
      "\u001b[1;36m  File \u001b[1;32m\"<ipython-input-4-1081dd54e828>\"\u001b[1;36m, line \u001b[1;32m31\u001b[0m\n\u001b[1;33m    indice = dst.index(min(dst))\u001b[0m\n\u001b[1;37m    ^\u001b[0m\n\u001b[1;31mSyntaxError\u001b[0m\u001b[1;31m:\u001b[0m invalid syntax\n"
     ]
    }
   ],
   "source": [
    "def distancia_euclidiana(imagem_teste, img_media, caracteristicas):\n",
    "    '''calcula a distancia euclidiana'''\n",
    "    \n",
    "    img = cv2.imread(img_media)\n",
    "    res = cv2.resize(img, dsize=(64, 64), interpolation=cv2.INTER_CUBIC)\n",
    "    \n",
    "    imgtest = preto_e_branco(res)\n",
    "    imgtest = np.array(imgtest)\n",
    "\n",
    "    matriz_teste = imgtest.reshape(imgtest.shape[0], imgtest.shape[1]*imgtest.shape[2])\n",
    "    \n",
    "    img_crctr = matriz_teste - img_media\n",
    "    U, S, VT = np.linalg.svd(imgs_crctr)\n",
    "    \n",
    "    S0 = np.zeros(imgs_cent.shape)\n",
    "    S0[:S.shape[0], :S.shape[0]] = np.diag(S)\n",
    "    \n",
    "    img_crctr = VT[:250]\n",
    "\n",
    "    \n",
    "    caracteristicas = caracteristicas.reshape(caracteristicas.shape[0], caracteristicas.shape[1]*caracteristicas.shape[2])\n",
    "    \n",
    "    df =[]\n",
    "    for i in caracteristicas:\n",
    "        df.append((img_crctr - i)**2)\n",
    "    \n",
    "    dst = []\n",
    "    for i in df:\n",
    "        dst.append((sum(np.array(i))**(1/2))\n",
    "                   \n",
    "    indice = dst.index(min(dst))\n",
    "    \n",
    "    return indice \n",
    "    \n",
    "    "
   ]
  },
  {
   "cell_type": "code",
   "execution_count": null,
   "metadata": {},
   "outputs": [],
   "source": [
    "dir = os.getcwd() + '/imgs/cats' #diretório\n",
    "nomes_imgs = os.listdir(dir)[:-1] #nomes das imagens\n",
    "\n",
    "#lista dos paths para cada imagem:\n",
    "path_imgs=[]\n",
    "for nome in nomes_imgs:\n",
    "    path_imgs.append(dir + '/' + nome)\n",
    "\n",
    "imgs = np.array([plt.imread(img) for img in path_imgs]) #cria array das imgs\n",
    "\n",
    "#Tranforma cada img colorida em preto e branco:\n",
    "imgs_bw = []\n",
    "for imagem in imgs:\n",
    "    imgs_bw.append(preto_e_branco(imagem))\n",
    "imgs_bw = np.array(imgs_bw)\n",
    "\n",
    "#plota algumas imagens usando a função criada no começo:\n",
    "num_imgs, altura, largura = imgs_bw.shape\n",
    "\n",
    "amostra = random.sample(range(0, imgs_bw.shape[0]), 16) #amostra aleatória de imagens para plotar\n",
    "\n",
    "plot_imagens(imgs_bw, altura, largura, n_linhas = 4, n_cols = 4, amostra=amostra)\n",
    "print(f'Quantidade total de imagens: {imgs_bw.shape[0]}.')"
   ]
  },
  {
   "cell_type": "code",
   "execution_count": null,
   "metadata": {},
   "outputs": [],
   "source": [
    "# Transformando a array imgs_bw (de 3 dimensões) em uma matriz (array de 2 dim) em que cada imagem é uma linha\n",
    "matriz_imgs = imgs_bw.reshape(imgs_bw.shape[0], imgs_bw.shape[1]*imgs_bw.shape[2])\n",
    "matriz_imgs.shape # Para conferir se deu certo"
   ]
  },
  {
   "cell_type": "code",
   "execution_count": null,
   "metadata": {},
   "outputs": [],
   "source": [
    "#Centralizando as imagens:\n",
    "media = np.mean(matriz_imgs, axis = 0)\n",
    "imgs_cent = matriz_imgs - media"
   ]
  },
  {
   "cell_type": "code",
   "execution_count": null,
   "metadata": {},
   "outputs": [],
   "source": [
    "# Face média dos gatinhos\n",
    "plt.imshow(media.reshape(64,64), cmap=plt.cm.gray)\n",
    "plt.xticks(())\n",
    "plt.yticks(())"
   ]
  },
  {
   "cell_type": "code",
   "execution_count": null,
   "metadata": {},
   "outputs": [],
   "source": [
    "# Matriz de covariância:\n",
    "# Pelo que eu entendi, a matriz de covariância C corresponde a AA^T, então encontrar os autovetores de C\n",
    "# é a mesma coisa que calcular o SVD de A, porque as colunas de U são as eigenfaces"
   ]
  },
  {
   "cell_type": "code",
   "execution_count": null,
   "metadata": {},
   "outputs": [],
   "source": [
    "# Calculando a SVD das imagens\n",
    "U, S, VT = np.linalg.svd(imgs_cent)"
   ]
  },
  {
   "cell_type": "code",
   "execution_count": null,
   "metadata": {},
   "outputs": [],
   "source": [
    "# Transformando S em uma matriz diagonal com o mesmo tamanho que imgs_cent (já que estamos calculando a decomposição dela)\n",
    "S0 = np.zeros(imgs_cent.shape)\n",
    "S0[:S.shape[0], :S.shape[0]] = np.diag(S)\n",
    "np.allclose(U.dot(S0.dot(VT)), imgs_cent) # Para confirmar se deu certo"
   ]
  },
  {
   "cell_type": "code",
   "execution_count": null,
   "metadata": {},
   "outputs": [],
   "source": [
    "# Selecionando algumas eigenfaces e plotando o resultado\n",
    "C = VT[:250]\n",
    "#print(C.shape)\n",
    "eigenfaces = C.reshape((250, 64, 64))\n",
    "#print(eigenfaces.shape)\n",
    "plot_imagens(eigenfaces, altura, largura, n_linhas = 4, n_cols = 4, amostra=range(0, C.shape[0])[:16])"
   ]
  },
  {
   "cell_type": "code",
   "execution_count": null,
   "metadata": {},
   "outputs": [],
   "source": [
    "dir = os.getcwd() + '/test' #diretório\n",
    "nomes_test = os.listdir(dir)[:-1] #nomes das imagens\n",
    "\n",
    "#lista dos paths para cada imagem:\n",
    "path_test=[]\n",
    "for nome in nomes_test:\n",
    "    path_test.append(dir + '/' + nome)\n",
    "\n",
    "test = np.array([plt.imread(img) for img in path_imgs])\n",
    "indice = array_rand(test,1)\n",
    "img_test = test[indice]\n",
    "\n",
    "m = distancia_euclidiana(imagem_teste = img_test, img_media = media, caracteristicas = C)\n",
    "\n",
    "print(imgs[m])\n"
   ]
  },
  {
   "cell_type": "markdown",
   "metadata": {},
   "source": [
    "# Referências:\n",
    "- STRANG, Gilbert. **Introduction to Linear Algebra.** 5th edition. Wellesley: Cambridge Press, 2016. \n",
    "- ACAR, Nev. **Eigenfaces: Recovering Humans from Ghosts.** Towards data science, 2018. Disponível em: <https://towardsdatascience.com/eigenfaces-recovering-humans-from-ghosts-17606c328184>. Data de acesso: 07 de novembro de 2021.\n",
    "- "
   ]
  }
 ],
 "metadata": {
  "kernelspec": {
   "display_name": "Python 3",
   "language": "python",
   "name": "python3"
  },
  "language_info": {
   "codemirror_mode": {
    "name": "ipython",
    "version": 3
   },
   "file_extension": ".py",
   "mimetype": "text/x-python",
   "name": "python",
   "nbconvert_exporter": "python",
   "pygments_lexer": "ipython3",
   "version": "3.8.5"
  }
 },
 "nbformat": 4,
 "nbformat_minor": 4
}
